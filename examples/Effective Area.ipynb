{
 "cells": [
  {
   "cell_type": "markdown",
   "metadata": {},
   "source": [
    "# Calculate Effective Area"
   ]
  },
  {
   "cell_type": "markdown",
   "metadata": {},
   "source": [
    "In this example we will calculate the effective area of a detector over a range of energies."
   ]
  },
  {
   "cell_type": "markdown",
   "metadata": {},
   "source": [
    "### WARNING:\n",
    "In order to finish reasonably quickly, the number of events thrown in this example is low. This means that there are likely not enough events to accurately represent the effective area of the detector. For an accurate measurement, the number of events must be increased, but this will need much more time to run in that case."
   ]
  },
  {
   "cell_type": "code",
   "execution_count": 1,
   "metadata": {},
   "outputs": [],
   "source": [
    "import numpy as np\n",
    "import matplotlib.pyplot as plt\n",
    "%matplotlib inline\n",
    "import pyrex\n",
    "import pyrex.custom.ara as ara"
   ]
  },
  {
   "cell_type": "markdown",
   "metadata": {},
   "source": [
    "First let's set the number of events that we will be throwing at each energy, and the energies we will be using. As stated in the warning, the number of events is set low to speed up the example, but that means the results are likely inaccurate. The energies are high to increase the chance of triggering."
   ]
  },
  {
   "cell_type": "code",
   "execution_count": 2,
   "metadata": {},
   "outputs": [],
   "source": [
    "n_events = 100\n",
    "energies = [1e9, 2e9, 5e9, 1e10] # GeV"
   ]
  },
  {
   "cell_type": "markdown",
   "metadata": {},
   "source": [
    "Next, set up the detector to be measured. Here we use a single standard ARA station."
   ]
  },
  {
   "cell_type": "code",
   "execution_count": 3,
   "metadata": {},
   "outputs": [],
   "source": [
    "detector = ara.HexagonalGrid(station_type=ara.RegularStation,\n",
    "                             stations=1)\n",
    "detector.build_antennas(power_threshold=-6.15)"
   ]
  },
  {
   "cell_type": "markdown",
   "metadata": {},
   "source": [
    "Now set up a neutrino generator for each energy. We'll use unrealistically small volumes to increase the chance of triggering."
   ]
  },
  {
   "cell_type": "code",
   "execution_count": 4,
   "metadata": {},
   "outputs": [],
   "source": [
    "generators = [pyrex.ShadowGenerator(dx=1000, dy=1000, dz=1000, energy=energy)\n",
    "              for energy in energies]"
   ]
  },
  {
   "cell_type": "markdown",
   "metadata": {},
   "source": [
    "And then set up the event kernels for each energy. Let's use the ArasimIce class as our ice model since it calculates attenuations faster at the loss of some accuracy."
   ]
  },
  {
   "cell_type": "code",
   "execution_count": 5,
   "metadata": {},
   "outputs": [],
   "source": [
    "kernels = [pyrex.EventKernel(generator=gen, antennas=detector,\n",
    "                             ice_model=pyrex.ice_model.ArasimIce)\n",
    "           for gen in generators]"
   ]
  },
  {
   "cell_type": "markdown",
   "metadata": {},
   "source": [
    "Now run each kernel and record the number of events from each that triggered the detector. In this case we'll set our trigger condition to 3/8 antennas triggering in a single polarization."
   ]
  },
  {
   "cell_type": "code",
   "execution_count": 6,
   "metadata": {},
   "outputs": [
    {
     "name": "stdout",
     "output_type": "stream",
     "text": [
      "Running energy 1000000000.0\n",
      "0..n 1..n 2..n 3..n 4..n 5..n 6..n 7..n 8..n 9..n \n",
      "10..n 11..n 12..n 13..n 14..n 15..n 16..n 17..n 18..n 19..n \n",
      "20..n 21..n 22..n 23..n 24..n 25..n 26..n 27..n 28..n 29..n \n",
      "30..n 31..n 32..y 33..n 34..n 35..y 36..n 37..n 38..n 39..n \n",
      "40..n 41..n 42..n 43..n 44..n 45..n 46..n 47..n 48..n 49..n \n",
      "50..n 51..n 52..n 53..n 54..n 55..n 56..n 57..n 58..n 59..n \n",
      "60..y 61..n 62..n 63..n 64..n 65..n 66..n 67..n 68..n 69..n \n",
      "70..n 71..n 72..n 73..n 74..n 75..n 76..n 77..n 78..n 79..n \n",
      "80..n 81..n 82..n 83..n 84..n 85..y 86..n 87..n 88..n 89..n \n",
      "90..n 91..n 92..n 93..n 94..n 95..n 96..n 97..n 98..n 99..n \n",
      "4.0 events triggered at 1000.0 PeV\n",
      "Running energy 2000000000.0\n",
      "0..n 1..n 2..n 3..n 4..n 5..n 6..n 7..y 8..n 9..n \n",
      "10..n 11..n 12..n 13..n 14..n 15..n 16..n 17..n 18..n 19..n \n",
      "20..n 21..n 22..n 23..n 24..n 25..n 26..n 27..n 28..n 29..n \n",
      "30..n 31..n 32..n 33..n 34..n 35..n 36..n 37..n 38..n 39..n \n",
      "40..n 41..n 42..n 43..n 44..n 45..n 46..n 47..n 48..n 49..n \n",
      "50..n 51..n 52..n 53..n 54..n 55..n 56..n 57..n 58..y 59..n \n",
      "60..n 61..n 62..n 63..n 64..n 65..n 66..y 67..n 68..n 69..n \n",
      "70..n 71..n 72..n 73..y 74..n 75..y 76..n 77..n 78..n 79..n \n",
      "80..n 81..n 82..n 83..y 84..n 85..n 86..n 87..n 88..n 89..n \n",
      "90..y 91..n 92..n 93..n 94..n 95..n 96..n 97..n 98..y 99..n \n",
      "8.0 events triggered at 2000.0 PeV\n",
      "Running energy 5000000000.0\n",
      "0..n 1..y 2..n 3..y 4..y 5..n 6..n 7..n 8..n 9..y \n",
      "10..n 11..n 12..n 13..n 14..n 15..y 16..y 17..n 18..n 19..n \n",
      "20..n 21..n 22..n 23..n 24..n 25..n 26..n 27..n 28..n 29..n \n",
      "30..n 31..n 32..n 33..n 34..n 35..n 36..n 37..n 38..n 39..n \n",
      "40..n 41..n 42..n 43..n 44..n 45..n 46..n 47..n 48..n 49..n \n",
      "50..n 51..n 52..n 53..n 54..n 55..y 56..y 57..n 58..n 59..n \n",
      "60..y 61..n 62..n 63..n 64..n 65..n 66..n 67..n 68..n 69..n \n",
      "70..n 71..n 72..y 73..n 74..n 75..n 76..y 77..n 78..n 79..n \n",
      "80..y 81..n 82..n 83..n 84..n 85..n 86..n 87..n 88..n 89..n \n",
      "90..n 91..n 92..n 93..n 94..y 95..n 96..n 97..n 98..n 99..n \n",
      "13.0 events triggered at 5000.0 PeV\n",
      "Running energy 10000000000.0\n",
      "0..n 1..n 2..n 3..n 4..n 5..n 6..n 7..n 8..n 9..y \n",
      "10..n 11..n 12..n 13..y 14..n 15..n 16..n 17..n 18..n 19..n \n",
      "20..n 21..n 22..n 23..n 24..n 25..n 26..n 27..n 28..n 29..n \n",
      "30..n 31..n 32..y 33..n 34..n 35..n 36..n 37..n 38..y 39..n \n",
      "40..n 41..n 42..y 43..n 44..n 45..n 46..y 47..n 48..n 49..y \n",
      "50..n 51..n 52..n 53..n 54..n 55..n 56..n 57..y 58..n 59..n \n",
      "60..n 61..y 62..n 63..y 64..y 65..n 66..n 67..n 68..n 69..n \n",
      "70..n 71..n 72..n 73..n 74..n 75..n 76..y 77..y 78..n 79..n \n",
      "80..n 81..y 82..n 83..n 84..n 85..n 86..n 87..n 88..n 89..n \n",
      "90..y 91..y 92..n 93..n 94..n 95..n 96..n 97..y 98..n 99..n \n",
      "17.0 events triggered at 10000.0 PeV\n",
      "Done\n"
     ]
    }
   ],
   "source": [
    "triggers = np.zeros(len(energies))\n",
    "for i, kernel in enumerate(kernels):\n",
    "    print(\"Running energy\", energies[i])\n",
    "    for j in range(n_events):\n",
    "        print(j, \"..\", sep=\"\", end=\"\")\n",
    "        detector.clear(reset_noise=True)\n",
    "        particle = kernel.event()\n",
    "        triggered = detector.triggered(station_requirement=1,\n",
    "                                       polarized_antenna_requirement=3)\n",
    "        if triggered:\n",
    "            triggers[i] += 1\n",
    "            print(\"y\", end=\" \")\n",
    "        else:\n",
    "            print(\"n\", end=\" \")\n",
    "        \n",
    "        if j%10==9:\n",
    "            print(flush=True)\n",
    "    print(triggers[i], \"events triggered at\", energies[i]/1e6, \"PeV\")\n",
    "print(\"Done\")"
   ]
  },
  {
   "cell_type": "markdown",
   "metadata": {},
   "source": [
    "Now that we have the trigger counts for each energy, we can calculate the effective volumes by scaling the trigger probability by the generation volume. Errors are calculated assuming poisson counting statistics."
   ]
  },
  {
   "cell_type": "code",
   "execution_count": 7,
   "metadata": {},
   "outputs": [],
   "source": [
    "generation_volumes = np.ones(4)*1000*1000*1000\n",
    "effective_volumes = triggers / n_events * generation_volumes\n",
    "volume_errors = np.sqrt(triggers) / n_events * generation_volumes"
   ]
  },
  {
   "cell_type": "code",
   "execution_count": 8,
   "metadata": {},
   "outputs": [
    {
     "data": {
      "image/png": "[encoded data removed]",
      "text/plain": [
       "<matplotlib.figure.Figure at 0x11a154e80>"
      ]
     },
     "metadata": {},
     "output_type": "display_data"
    }
   ],
   "source": [
    "plt.errorbar(energies, effective_volumes, yerr=volume_errors,\n",
    "             marker=\"o\", markersize=5, linestyle=\":\", capsize=5)\n",
    "ax = plt.gca()\n",
    "ax.set_xscale(\"log\")\n",
    "ax.set_yscale(\"log\")\n",
    "plt.title(\"Detector Effective Volume\")\n",
    "plt.xlabel(\"Neutrino Energy (GeV)\")\n",
    "plt.ylabel(\"Effective Volume (km^3)\")\n",
    "plt.show()"
   ]
  },
  {
   "cell_type": "markdown",
   "metadata": {},
   "source": [
    "Then from the effecitve volumes, we can calculate the effective areas. The effective area is the probability interaction in the ice volume times the effective volume. The probability of interaction in the ice volume is given by the interaction cross section times the density of the ice. Calculate the cross section as an average of the neutrino and antineutrino cross sections."
   ]
  },
  {
   "cell_type": "code",
   "execution_count": 9,
   "metadata": {},
   "outputs": [],
   "source": [
    "cross_sections = np.zeros(len(energies))\n",
    "for i, energy in enumerate(energies):\n",
    "    nu = pyrex.Particle(particle_id=\"nu_e\", vertex=(0, 0, 0),\n",
    "                        direction=(0, 0, 1), energy=energy)\n",
    "    nu_bar = pyrex.Particle(particle_id=\"nu_e_bar\", vertex=(0, 0, 0),\n",
    "                            direction=(0, 0, 1), energy=energy)\n",
    "    cross_sections[i] = (nu.interaction.total_cross_section +\n",
    "                         nu_bar.interaction.total_cross_section) / 2\n",
    "ice_density = 0.92 # g/cm^3\n",
    "ice_density *= 1e15 # converted to g/km^3 = nucleons/km^3\n",
    "effective_areas = 6.022e23 * ice_density * cross_sections * effective_volumes\n",
    "effective_areas *= 1e-4 # converted from cm^2 to m^2\n",
    "area_errors = 6.022e23 * ice_density * cross_sections * volume_errors * 1e-4"
   ]
  },
  {
   "cell_type": "code",
   "execution_count": 10,
   "metadata": {},
   "outputs": [
    {
     "data": {
      "image/png": "[encoded data removed]",
      "text/plain": [
       "<matplotlib.figure.Figure at 0x113cbe6d8>"
      ]
     },
     "metadata": {},
     "output_type": "display_data"
    }
   ],
   "source": [
    "plt.errorbar(energies, effective_areas, yerr=area_errors,\n",
    "             marker=\"o\", markersize=5, linestyle=\":\", capsize=5)\n",
    "ax = plt.gca()\n",
    "ax.set_xscale(\"log\")\n",
    "ax.set_yscale(\"log\")\n",
    "plt.title(\"Detector Effective Area\")\n",
    "plt.xlabel(\"Neutrino Energy (GeV)\")\n",
    "plt.ylabel(\"Effective Area (m^2)\")\n",
    "plt.show()"
   ]
  },
  {
   "cell_type": "code",
   "execution_count": null,
   "metadata": {},
   "outputs": [],
   "source": []
  }
 ],
 "metadata": {
  "kernelspec": {
   "display_name": "Python 3",
   "language": "python",
   "name": "python3"
  },
  "language_info": {
   "codemirror_mode": {
    "name": "ipython",
    "version": 3
   },
   "file_extension": ".py",
   "mimetype": "text/x-python",
   "name": "python",
   "nbconvert_exporter": "python",
   "pygments_lexer": "ipython3",
   "version": "3.6.4"
  }
 },
 "nbformat": 4,
 "nbformat_minor": 2
}
